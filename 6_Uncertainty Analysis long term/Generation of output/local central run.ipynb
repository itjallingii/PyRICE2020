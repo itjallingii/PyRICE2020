{
 "cells": [
  {
   "cell_type": "code",
   "execution_count": 14,
   "metadata": {},
   "outputs": [
    {
     "name": "stdout",
     "output_type": "stream",
     "text": [
      "C:\\Users\\ivart\\OneDrive\\Bureaublad\\Afstuderen\\WRR\\PyRICE Ivar Tjallingii\\PyRICE2020\\6_Uncertainty Analysis//server//model_server//output//\n",
      "uncertainty analysis started for: prioritarian case for 25000 scenario's\n"
     ]
    },
    {
     "name": "stderr",
     "output_type": "stream",
     "text": [
      "[MainProcess/INFO] pool started\n",
      "[MainProcess/INFO] performing 25000 scenarios * 4 policies * 1 model(s) = 100000 experiments\n",
      "[MainProcess/INFO] 10000 cases completed\n",
      "[MainProcess/INFO] 20000 cases completed\n",
      "[MainProcess/INFO] 30000 cases completed\n",
      "[MainProcess/INFO] 40000 cases completed\n",
      "[MainProcess/INFO] 50000 cases completed\n",
      "[MainProcess/INFO] 60000 cases completed\n",
      "[MainProcess/INFO] 70000 cases completed\n",
      "[MainProcess/INFO] 80000 cases completed\n",
      "[MainProcess/INFO] 90000 cases completed\n",
      "[MainProcess/INFO] 100000 cases completed\n",
      "[MainProcess/INFO] experiments finished\n",
      "[MainProcess/INFO] results saved successfully to C:\\Users\\ivart\\OneDrive\\Bureaublad\\Afstuderen\\WRR\\PyRICE Ivar Tjallingii\\PyRICE2020\\6_Uncertainty Analysis\\server\\results_uncertainty_analsysis_long_term_policies_second_halfprioritarian_runs_25000.tar.gz\n",
      "[MainProcess/INFO] terminating pool\n"
     ]
    },
    {
     "name": "stdout",
     "output_type": "stream",
     "text": [
      "uncertainty_analysis_long_term_first_halfprioritarian cycle completed\n",
      "uncertainty analysis started for: egalitarian case for 25000 scenario's\n"
     ]
    },
    {
     "name": "stderr",
     "output_type": "stream",
     "text": [
      "[MainProcess/INFO] pool started\n",
      "[MainProcess/INFO] performing 25000 scenarios * 4 policies * 1 model(s) = 100000 experiments\n",
      "[MainProcess/INFO] 10000 cases completed\n",
      "[MainProcess/INFO] 20000 cases completed\n",
      "[MainProcess/INFO] 30000 cases completed\n",
      "[MainProcess/INFO] 40000 cases completed\n",
      "[MainProcess/INFO] 50000 cases completed\n",
      "[MainProcess/INFO] 60000 cases completed\n",
      "[MainProcess/INFO] 70000 cases completed\n",
      "[MainProcess/INFO] 80000 cases completed\n",
      "[MainProcess/INFO] 90000 cases completed\n",
      "[MainProcess/INFO] 100000 cases completed\n",
      "[MainProcess/INFO] experiments finished\n",
      "[MainProcess/INFO] results saved successfully to C:\\Users\\ivart\\OneDrive\\Bureaublad\\Afstuderen\\WRR\\PyRICE Ivar Tjallingii\\PyRICE2020\\6_Uncertainty Analysis\\server\\results_uncertainty_analsysis_long_term_policies_second_halfegalitarian_runs_25000.tar.gz\n",
      "[MainProcess/INFO] terminating pool\n"
     ]
    },
    {
     "name": "stdout",
     "output_type": "stream",
     "text": [
      "uncertainty_analysis_long_term_first_halfegalitarian cycle completed\n",
      "uncertainty analysis started for: sufficitarian case for 25000 scenario's\n"
     ]
    },
    {
     "name": "stderr",
     "output_type": "stream",
     "text": [
      "[MainProcess/INFO] pool started\n",
      "[MainProcess/INFO] performing 25000 scenarios * 4 policies * 1 model(s) = 100000 experiments\n",
      "[MainProcess/INFO] 10000 cases completed\n",
      "[MainProcess/INFO] 20000 cases completed\n",
      "[MainProcess/INFO] 30000 cases completed\n",
      "[MainProcess/INFO] 40000 cases completed\n",
      "[MainProcess/INFO] 50000 cases completed\n",
      "[MainProcess/INFO] 60000 cases completed\n",
      "[MainProcess/INFO] 70000 cases completed\n",
      "[MainProcess/INFO] 80000 cases completed\n",
      "[MainProcess/INFO] 90000 cases completed\n",
      "[MainProcess/INFO] 100000 cases completed\n",
      "[MainProcess/INFO] experiments finished\n",
      "[MainProcess/INFO] results saved successfully to C:\\Users\\ivart\\OneDrive\\Bureaublad\\Afstuderen\\WRR\\PyRICE Ivar Tjallingii\\PyRICE2020\\6_Uncertainty Analysis\\server\\results_uncertainty_analsysis_long_term_policies_second_halfsufficitarian_runs_25000.tar.gz\n",
      "[MainProcess/INFO] terminating pool\n"
     ]
    },
    {
     "name": "stdout",
     "output_type": "stream",
     "text": [
      "uncertainty_analysis_long_term_first_halfsufficitarian cycle completed\n"
     ]
    }
   ],
   "source": [
    "%run \"uncertainty long term.py\""
   ]
  },
  {
   "cell_type": "code",
   "execution_count": 8,
   "metadata": {},
   "outputs": [],
   "source": [
    "import math\n",
    "import os\n",
    "import sys\n",
    "i/mport matplotlib.pyplot as plt\n",
    "import seaborn as sns\n",
    "import pandas as pd\n",
    "import numpy as np\n",
    "import itertools\n",
    "\n",
    "from ema_workbench import save_results, load_results"
   ]
  },
  {
   "cell_type": "code",
   "execution_count": null,
   "metadata": {},
   "outputs": [],
   "source": []
  },
  {
   "cell_type": "code",
   "execution_count": null,
   "metadata": {},
   "outputs": [],
   "source": []
  },
  {
   "cell_type": "code",
   "execution_count": null,
   "metadata": {},
   "outputs": [],
   "source": []
  }
 ],
 "metadata": {
  "kernelspec": {
   "display_name": "Python 3",
   "language": "python",
   "name": "python3"
  },
  "language_info": {
   "codemirror_mode": {
    "name": "ipython",
    "version": 3
   },
   "file_extension": ".py",
   "mimetype": "text/x-python",
   "name": "python",
   "nbconvert_exporter": "python",
   "pygments_lexer": "ipython3",
   "version": "3.8.5"
  }
 },
 "nbformat": 4,
 "nbformat_minor": 4
}
