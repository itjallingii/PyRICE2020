{
 "cells": [
  {
   "cell_type": "code",
   "execution_count": null,
   "metadata": {},
   "outputs": [],
   "source": [
    "%run \"uncertainty local long term-nordhaus.py\""
   ]
  },
  {
   "cell_type": "code",
   "execution_count": 2,
   "metadata": {},
   "outputs": [
    {
     "name": "stdout",
     "output_type": "stream",
     "text": [
      "C:\\Users\\ivart\\OneDrive\\Bureaublad\\Afstuderen\\WRR\\PyRICE Ivar Tjallingii\\PyRICE2020\\6_Uncertainty Analysis\\output\\\n",
      "short term uncertainty analysis started for: nordhaus case for 35000 scenario's\n"
     ]
    },
    {
     "name": "stderr",
     "output_type": "stream",
     "text": [
      "[MainProcess/INFO] pool started\n",
      "[MainProcess/INFO] performing 35000 scenarios * 1 policies * 1 model(s) = 35000 experiments\n",
      "[MainProcess/INFO] 3500 cases completed\n",
      "[MainProcess/INFO] 7000 cases completed\n",
      "[MainProcess/INFO] 10500 cases completed\n",
      "[MainProcess/INFO] 14000 cases completed\n",
      "[MainProcess/INFO] 17500 cases completed\n",
      "[MainProcess/INFO] 21000 cases completed\n",
      "[MainProcess/INFO] 24500 cases completed\n",
      "[MainProcess/INFO] 28000 cases completed\n",
      "[MainProcess/INFO] 31500 cases completed\n",
      "[MainProcess/INFO] 35000 cases completed\n",
      "[MainProcess/INFO] experiments finished\n",
      "[MainProcess/INFO] results saved successfully to C:\\Users\\ivart\\OneDrive\\Bureaublad\\Afstuderen\\WRR\\PyRICE Ivar Tjallingii\\PyRICE2020\\6_Uncertainty Analysis\\output\\results_uncertainty_analsysis_short_term_nordhaus_runs_35000.tar.gz\n",
      "[MainProcess/INFO] terminating pool\n"
     ]
    },
    {
     "name": "stdout",
     "output_type": "stream",
     "text": [
      "uncertainty_analysis_short_term nordhaus cycle completed\n"
     ]
    }
   ],
   "source": [
    "%run \"uncertainty nordhaus short term local run.py\""
   ]
  },
  {
   "cell_type": "code",
   "execution_count": null,
   "metadata": {},
   "outputs": [],
   "source": [
    "%run \"uncertainty_worst_case_utilitarian.py\""
   ]
  },
  {
   "cell_type": "code",
   "execution_count": null,
   "metadata": {},
   "outputs": [],
   "source": [
    "%run \"uncertainty_worst_case_sufficitarian.py\""
   ]
  },
  {
   "cell_type": "code",
   "execution_count": null,
   "metadata": {},
   "outputs": [],
   "source": [
    "%run \"uncertainty_worst_case_prioritarian_local_run.py\""
   ]
  },
  {
   "cell_type": "code",
   "execution_count": null,
   "metadata": {},
   "outputs": [],
   "source": [
    "%run \"uncertainty_worst_case_egalitarian_local_run.py\""
   ]
  }
 ],
 "metadata": {
  "kernelspec": {
   "display_name": "Python 3",
   "language": "python",
   "name": "python3"
  },
  "language_info": {
   "codemirror_mode": {
    "name": "ipython",
    "version": 3
   },
   "file_extension": ".py",
   "mimetype": "text/x-python",
   "name": "python",
   "nbconvert_exporter": "python",
   "pygments_lexer": "ipython3",
   "version": "3.8.5"
  }
 },
 "nbformat": 4,
 "nbformat_minor": 2
}
